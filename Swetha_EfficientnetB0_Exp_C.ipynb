{
 "cells": [
  {
   "cell_type": "code",
   "execution_count": 2,
   "metadata": {
    "colab": {
     "base_uri": "https://localhost:8080/"
    },
    "executionInfo": {
     "elapsed": 1582,
     "status": "ok",
     "timestamp": 1670174102099,
     "user": {
      "displayName": "Swetha Doddi",
      "userId": "12062466041865832555"
     },
     "user_tz": 360
    },
    "id": "g52GHjCYIJly",
    "outputId": "a69fa4a9-fef1-423f-d29d-01c3bae66735"
   },
   "outputs": [
    {
     "name": "stdout",
     "output_type": "stream",
     "text": [
      "Drive already mounted at /content/drive; to attempt to forcibly remount, call drive.mount(\"/content/drive\", force_remount=True).\n"
     ]
    }
   ],
   "source": [
    "from google.colab import drive\n",
    "drive.mount('/content/drive')"
   ]
  },
  {
   "cell_type": "code",
   "execution_count": 3,
   "metadata": {
    "executionInfo": {
     "elapsed": 338,
     "status": "ok",
     "timestamp": 1670174110221,
     "user": {
      "displayName": "Swetha Doddi",
      "userId": "12062466041865832555"
     },
     "user_tz": 360
    },
    "id": "SZ_A5-HLIVrz"
   },
   "outputs": [],
   "source": [
    "dir_path = \"/content/drive/MyDrive/crops\""
   ]
  },
  {
   "cell_type": "code",
   "execution_count": 5,
   "metadata": {
    "executionInfo": {
     "elapsed": 9,
     "status": "ok",
     "timestamp": 1670174168517,
     "user": {
      "displayName": "Swetha Doddi",
      "userId": "12062466041865832555"
     },
     "user_tz": 360
    },
    "id": "Wbw612QIInaU"
   },
   "outputs": [],
   "source": [
    "from datetime import datetime\n",
    "from tensorflow import keras \n",
    "from keras import Sequential\n",
    "from keras.layers import Conv2D, Dense, Flatten, Activation, Dropout, Flatten, MaxPooling2D\n",
    "from keras.losses import CategoricalCrossentropy\n",
    "from keras.preprocessing.image import ImageDataGenerator\n",
    "import numpy as np\n",
    "from sklearn.metrics import accuracy_score\n",
    "from sklearn.metrics import confusion_matrix\n",
    "#from keras.applications.vgg19 import preprocess_input\n",
    "#from keras.applications.inception_v3 import preprocess_input\n",
    "from keras.applications.inception_resnet_v2 import preprocess_input\n",
    "#from keras.applications.resnet import preprocess_input\n",
    "from PIL import Image\n",
    "from torchvision import transforms\n"
   ]
  },
  {
   "cell_type": "code",
   "execution_count": 6,
   "metadata": {
    "colab": {
     "base_uri": "https://localhost:8080/"
    },
    "executionInfo": {
     "elapsed": 4457,
     "status": "ok",
     "timestamp": 1670174177737,
     "user": {
      "displayName": "Swetha Doddi",
      "userId": "12062466041865832555"
     },
     "user_tz": 360
    },
    "id": "pFAE1YaTI1ty",
    "outputId": "dcd758a2-0c58-44b4-8be9-919c333d2cb1"
   },
   "outputs": [
    {
     "name": "stdout",
     "output_type": "stream",
     "text": [
      "Looking in indexes: https://pypi.org/simple, https://us-python.pkg.dev/colab-wheels/public/simple/\n",
      "Collecting efficientnet\n",
      "  Downloading efficientnet-1.1.1-py3-none-any.whl (18 kB)\n",
      "Requirement already satisfied: scikit-image in /usr/local/lib/python3.8/dist-packages (from efficientnet) (0.18.3)\n",
      "Collecting keras-applications<=1.0.8,>=1.0.7\n",
      "  Downloading Keras_Applications-1.0.8-py3-none-any.whl (50 kB)\n",
      "\u001b[K     |████████████████████████████████| 50 kB 4.2 MB/s \n",
      "\u001b[?25hRequirement already satisfied: numpy>=1.9.1 in /usr/local/lib/python3.8/dist-packages (from keras-applications<=1.0.8,>=1.0.7->efficientnet) (1.21.6)\n",
      "Requirement already satisfied: h5py in /usr/local/lib/python3.8/dist-packages (from keras-applications<=1.0.8,>=1.0.7->efficientnet) (3.1.0)\n",
      "Requirement already satisfied: tifffile>=2019.7.26 in /usr/local/lib/python3.8/dist-packages (from scikit-image->efficientnet) (2021.11.2)\n",
      "Requirement already satisfied: imageio>=2.3.0 in /usr/local/lib/python3.8/dist-packages (from scikit-image->efficientnet) (2.9.0)\n",
      "Requirement already satisfied: pillow!=7.1.0,!=7.1.1,>=4.3.0 in /usr/local/lib/python3.8/dist-packages (from scikit-image->efficientnet) (7.1.2)\n",
      "Requirement already satisfied: networkx>=2.0 in /usr/local/lib/python3.8/dist-packages (from scikit-image->efficientnet) (2.6.3)\n",
      "Requirement already satisfied: matplotlib!=3.0.0,>=2.0.0 in /usr/local/lib/python3.8/dist-packages (from scikit-image->efficientnet) (3.2.2)\n",
      "Requirement already satisfied: scipy>=1.0.1 in /usr/local/lib/python3.8/dist-packages (from scikit-image->efficientnet) (1.7.3)\n",
      "Requirement already satisfied: PyWavelets>=1.1.1 in /usr/local/lib/python3.8/dist-packages (from scikit-image->efficientnet) (1.3.0)\n",
      "Requirement already satisfied: python-dateutil>=2.1 in /usr/local/lib/python3.8/dist-packages (from matplotlib!=3.0.0,>=2.0.0->scikit-image->efficientnet) (2.8.2)\n",
      "Requirement already satisfied: kiwisolver>=1.0.1 in /usr/local/lib/python3.8/dist-packages (from matplotlib!=3.0.0,>=2.0.0->scikit-image->efficientnet) (1.4.4)\n",
      "Requirement already satisfied: cycler>=0.10 in /usr/local/lib/python3.8/dist-packages (from matplotlib!=3.0.0,>=2.0.0->scikit-image->efficientnet) (0.11.0)\n",
      "Requirement already satisfied: pyparsing!=2.0.4,!=2.1.2,!=2.1.6,>=2.0.1 in /usr/local/lib/python3.8/dist-packages (from matplotlib!=3.0.0,>=2.0.0->scikit-image->efficientnet) (3.0.9)\n",
      "Requirement already satisfied: six>=1.5 in /usr/local/lib/python3.8/dist-packages (from python-dateutil>=2.1->matplotlib!=3.0.0,>=2.0.0->scikit-image->efficientnet) (1.15.0)\n",
      "Installing collected packages: keras-applications, efficientnet\n",
      "Successfully installed efficientnet-1.1.1 keras-applications-1.0.8\n"
     ]
    }
   ],
   "source": [
    "!pip install -U efficientnet"
   ]
  },
  {
   "cell_type": "code",
   "execution_count": 7,
   "metadata": {
    "executionInfo": {
     "elapsed": 521,
     "status": "ok",
     "timestamp": 1670174189619,
     "user": {
      "displayName": "Swetha Doddi",
      "userId": "12062466041865832555"
     },
     "user_tz": 360
    },
    "id": "7giQC5mgI3Be"
   },
   "outputs": [],
   "source": [
    "import efficientnet.keras as efn"
   ]
  },
  {
   "cell_type": "code",
   "execution_count": 8,
   "metadata": {
    "executionInfo": {
     "elapsed": 6,
     "status": "ok",
     "timestamp": 1670174205412,
     "user": {
      "displayName": "Swetha Doddi",
      "userId": "12062466041865832555"
     },
     "user_tz": 360
    },
    "id": "Hmi_wIr8I7aH"
   },
   "outputs": [],
   "source": [
    "img_class_mode_ = 'categorical'\n",
    "rotation_range_ = 10       # 15 degrees rotation range for image augmentation\n",
    "width_shift_range_ = 0.1  # 15% horizontal shift range for image augmentation\n",
    "height_shift_range_ = 0.1 # 15% pixels veritcal shift range for image augmentation\n",
    "zoom_range_ = 0.3          # zoom range 0.7 - 1.3 for image augmentation\n",
    "brightness_range_ = (0.3, 0.8)   # brightness range slight darkening or slight brightening (50% is no change) for image augmentation\n",
    "horizontal_flip_ = True    # horizontal flip on for image augmentation\n",
    "interpolation_mode_ = \"lanczos\"  # higher quality interpolation for re-scaling (when applicable)\n",
    "fill_mode_ = \"reflect\"  # reflect margin for shifted regions for image augmentation\n",
    "keep_aspect_ratio_ = True"
   ]
  },
  {
   "cell_type": "code",
   "execution_count": 9,
   "metadata": {
    "executionInfo": {
     "elapsed": 414,
     "status": "ok",
     "timestamp": 1670174220502,
     "user": {
      "displayName": "Swetha Doddi",
      "userId": "12062466041865832555"
     },
     "user_tz": 360
    },
    "id": "hhc9i_HrI-z2"
   },
   "outputs": [],
   "source": [
    "img_batch_size_ = 32 \n",
    "epochs_ = 150\n",
    "checkpoint_path = \"model_checkpoint_\" + datetime.now().strftime('%Y%m%d-%H%M%S') + \".h5\"\n",
    "opt = keras.optimizers.Adam(learning_rate=0.0001)\n"
   ]
  },
  {
   "cell_type": "code",
   "execution_count": 10,
   "metadata": {
    "colab": {
     "base_uri": "https://localhost:8080/"
    },
    "executionInfo": {
     "elapsed": 2235,
     "status": "ok",
     "timestamp": 1670174237386,
     "user": {
      "displayName": "Swetha Doddi",
      "userId": "12062466041865832555"
     },
     "user_tz": 360
    },
    "id": "RUIUp7raJErC",
    "outputId": "f82b0759-d097-4753-b871-f4ecf5abbeb1"
   },
   "outputs": [
    {
     "name": "stdout",
     "output_type": "stream",
     "text": [
      "Found 649 images belonging to 30 classes.\n",
      "Found 649 images belonging to 30 classes.\n",
      "Found 145 images belonging to 30 classes.\n"
     ]
    }
   ],
   "source": [
    "# load data and split into training and test/validation data sets\n",
    "images_data = ImageDataGenerator(\n",
    "    preprocessing_function = preprocess_input,  # Ref. https://keras.io/api/applications/vgg/#vgg19-function\n",
    "    validation_split = 0.2,\n",
    "    rotation_range = rotation_range_, width_shift_range = width_shift_range_,\n",
    "    height_shift_range = height_shift_range_, zoom_range = zoom_range_,\n",
    "    horizontal_flip = horizontal_flip_, fill_mode = fill_mode_, \n",
    "    brightness_range = brightness_range_)\n",
    "trainD_shuffle = images_data.flow_from_directory(\n",
    "    dir_path, shuffle = True, target_size = (224, 224), interpolation = interpolation_mode_,\n",
    "    keep_aspect_ratio = keep_aspect_ratio_,\n",
    "    class_mode = img_class_mode_, batch_size = img_batch_size_, subset = 'training')\n",
    "trainD_noshuffle = images_data.flow_from_directory(\n",
    "    dir_path, shuffle = False, target_size = (224, 224), interpolation = interpolation_mode_,\n",
    "    keep_aspect_ratio = keep_aspect_ratio_,    \n",
    "    class_mode = img_class_mode_, batch_size = img_batch_size_, subset = 'training')\n",
    "testD_noshuffle = images_data.flow_from_directory(\n",
    "    dir_path, shuffle = False, target_size = (224, 224), interpolation = interpolation_mode_,\n",
    "    keep_aspect_ratio = keep_aspect_ratio_,\n",
    "    class_mode = img_class_mode_, batch_size = img_batch_size_, subset = 'validation')"
   ]
  },
  {
   "cell_type": "code",
   "execution_count": 11,
   "metadata": {
    "colab": {
     "base_uri": "https://localhost:8080/"
    },
    "executionInfo": {
     "elapsed": 141,
     "status": "ok",
     "timestamp": 1670174248063,
     "user": {
      "displayName": "Swetha Doddi",
      "userId": "12062466041865832555"
     },
     "user_tz": 360
    },
    "id": "XLY0WAWWJGpQ",
    "outputId": "8e21d1b8-1499-4a0b-8e35-22bb3eef42f6"
   },
   "outputs": [
    {
     "name": "stdout",
     "output_type": "stream",
     "text": [
      "image class count 30\n"
     ]
    }
   ],
   "source": [
    "train_img_class_count = len(trainD_noshuffle.class_indices)\n",
    "test_img_class_count = len(testD_noshuffle.class_indices)\n",
    "if (train_img_class_count != test_img_class_count):\n",
    "    raise Exception(\"Training and Testing Data Sets Not Aligned.\")\n",
    "img_class_count = test_img_class_count\n",
    "print(\"image class count\", img_class_count)"
   ]
  },
  {
   "cell_type": "code",
   "execution_count": 12,
   "metadata": {
    "colab": {
     "base_uri": "https://localhost:8080/"
    },
    "executionInfo": {
     "elapsed": 6169,
     "status": "ok",
     "timestamp": 1670174298295,
     "user": {
      "displayName": "Swetha Doddi",
      "userId": "12062466041865832555"
     },
     "user_tz": 360
    },
    "id": "jSIHUkzoJJgY",
    "outputId": "33cf7503-c07f-48af-ba65-0f71ed651e11"
   },
   "outputs": [
    {
     "name": "stdout",
     "output_type": "stream",
     "text": [
      "Downloading data from https://github.com/Callidior/keras-applications/releases/download/efficientnet/efficientnet-b0_weights_tf_dim_ordering_tf_kernels_autoaugment_notop.h5\n",
      "16804768/16804768 [==============================] - 1s 0us/step\n"
     ]
    }
   ],
   "source": [
    "# get pre-trained CNN\n",
    "cnn = efn.EfficientNetB0(weights = 'imagenet', include_top = False, input_shape = (224, 224, 3))"
   ]
  },
  {
   "cell_type": "code",
   "execution_count": 13,
   "metadata": {
    "executionInfo": {
     "elapsed": 3,
     "status": "ok",
     "timestamp": 1670174317184,
     "user": {
      "displayName": "Swetha Doddi",
      "userId": "12062466041865832555"
     },
     "user_tz": 360
    },
    "id": "_ZoZ8yFuJVtD"
   },
   "outputs": [],
   "source": [
    "cnn.trainable = False"
   ]
  },
  {
   "cell_type": "code",
   "execution_count": 14,
   "metadata": {
    "executionInfo": {
     "elapsed": 913,
     "status": "ok",
     "timestamp": 1670174328271,
     "user": {
      "displayName": "Swetha Doddi",
      "userId": "12062466041865832555"
     },
     "user_tz": 360
    },
    "id": "EaqZaEX2JZ0l"
   },
   "outputs": [],
   "source": [
    "# build nerual network \n",
    "model = Sequential([\n",
    "    cnn,\n",
    "    Flatten(),\n",
    "    Dense(360, activation = 'relu'), \n",
    "    # Dropout(0.4),\n",
    "    Dense(180, activation = 'relu'), \n",
    "    Dropout(0.25),\n",
    "    Dense(90, activation = 'relu'), \n",
    "    Dropout(0.2),     \n",
    "    Dense(img_class_count, activation = 'softmax')\n",
    "])\n",
    "model.compile(loss = CategoricalCrossentropy(), \n",
    "    optimizer=opt, \n",
    "     metrics = ['accuracy'])"
   ]
  },
  {
   "cell_type": "code",
   "execution_count": 15,
   "metadata": {
    "colab": {
     "base_uri": "https://localhost:8080/"
    },
    "executionInfo": {
     "elapsed": 3126600,
     "status": "ok",
     "timestamp": 1670177465453,
     "user": {
      "displayName": "Swetha Doddi",
      "userId": "12062466041865832555"
     },
     "user_tz": 360
    },
    "id": "6LeU2jAfJcou",
    "outputId": "c40719dd-5696-42a0-f62e-42e4300a92d3"
   },
   "outputs": [
    {
     "name": "stdout",
     "output_type": "stream",
     "text": [
      "Epoch 1/150\n",
      "10/21 [=============>................] - ETA: 1:39 - loss: 3.4842 - accuracy: 0.0572"
     ]
    },
    {
     "name": "stderr",
     "output_type": "stream",
     "text": [
      "/usr/local/lib/python3.8/dist-packages/PIL/TiffImagePlugin.py:767: UserWarning: Possibly corrupt EXIF data.  Expecting to read 11 bytes but only got 10. Skipping tag 42037\n",
      "  warnings.warn(\n"
     ]
    },
    {
     "name": "stdout",
     "output_type": "stream",
     "text": [
      "21/21 [==============================] - ETA: 0s - loss: 3.2745 - accuracy: 0.1248\n",
      "Epoch 1: val_accuracy improved from -inf to 0.24138, saving model to model_checkpoint_20221204-171700.h5\n",
      "21/21 [==============================] - 261s 12s/step - loss: 3.2745 - accuracy: 0.1248 - val_loss: 2.8681 - val_accuracy: 0.2414\n",
      "Epoch 2/150\n",
      "21/21 [==============================] - ETA: 0s - loss: 2.5045 - accuracy: 0.3035\n",
      "Epoch 2: val_accuracy improved from 0.24138 to 0.36552, saving model to model_checkpoint_20221204-171700.h5\n",
      "21/21 [==============================] - 19s 933ms/step - loss: 2.5045 - accuracy: 0.3035 - val_loss: 2.3546 - val_accuracy: 0.3655\n",
      "Epoch 3/150\n",
      "21/21 [==============================] - ETA: 0s - loss: 1.9597 - accuracy: 0.4407\n",
      "Epoch 3: val_accuracy improved from 0.36552 to 0.50345, saving model to model_checkpoint_20221204-171700.h5\n",
      "21/21 [==============================] - 19s 930ms/step - loss: 1.9597 - accuracy: 0.4407 - val_loss: 1.9723 - val_accuracy: 0.5034\n",
      "Epoch 4/150\n",
      "21/21 [==============================] - ETA: 0s - loss: 1.6699 - accuracy: 0.5439\n",
      "Epoch 4: val_accuracy improved from 0.50345 to 0.55862, saving model to model_checkpoint_20221204-171700.h5\n",
      "21/21 [==============================] - 21s 994ms/step - loss: 1.6699 - accuracy: 0.5439 - val_loss: 1.7042 - val_accuracy: 0.5586\n",
      "Epoch 5/150\n",
      "21/21 [==============================] - ETA: 0s - loss: 1.3356 - accuracy: 0.6317\n",
      "Epoch 5: val_accuracy did not improve from 0.55862\n",
      "21/21 [==============================] - 19s 912ms/step - loss: 1.3356 - accuracy: 0.6317 - val_loss: 1.6877 - val_accuracy: 0.5586\n",
      "Epoch 6/150\n",
      "21/21 [==============================] - ETA: 0s - loss: 1.1128 - accuracy: 0.6980\n",
      "Epoch 6: val_accuracy improved from 0.55862 to 0.61379, saving model to model_checkpoint_20221204-171700.h5\n",
      "21/21 [==============================] - 19s 920ms/step - loss: 1.1128 - accuracy: 0.6980 - val_loss: 1.5012 - val_accuracy: 0.6138\n",
      "Epoch 7/150\n",
      "21/21 [==============================] - ETA: 0s - loss: 0.9705 - accuracy: 0.7165\n",
      "Epoch 7: val_accuracy did not improve from 0.61379\n",
      "21/21 [==============================] - 19s 908ms/step - loss: 0.9705 - accuracy: 0.7165 - val_loss: 1.4201 - val_accuracy: 0.6000\n",
      "Epoch 8/150\n",
      "21/21 [==============================] - ETA: 0s - loss: 0.8187 - accuracy: 0.7843\n",
      "Epoch 8: val_accuracy improved from 0.61379 to 0.64138, saving model to model_checkpoint_20221204-171700.h5\n",
      "21/21 [==============================] - 19s 934ms/step - loss: 0.8187 - accuracy: 0.7843 - val_loss: 1.3624 - val_accuracy: 0.6414\n",
      "Epoch 9/150\n",
      "21/21 [==============================] - ETA: 0s - loss: 0.7368 - accuracy: 0.8012\n",
      "Epoch 9: val_accuracy improved from 0.64138 to 0.64828, saving model to model_checkpoint_20221204-171700.h5\n",
      "21/21 [==============================] - 19s 933ms/step - loss: 0.7368 - accuracy: 0.8012 - val_loss: 1.4049 - val_accuracy: 0.6483\n",
      "Epoch 10/150\n",
      "21/21 [==============================] - ETA: 0s - loss: 0.6981 - accuracy: 0.8059\n",
      "Epoch 10: val_accuracy did not improve from 0.64828\n",
      "21/21 [==============================] - 19s 907ms/step - loss: 0.6981 - accuracy: 0.8059 - val_loss: 1.4311 - val_accuracy: 0.6483\n",
      "Epoch 11/150\n",
      "21/21 [==============================] - ETA: 0s - loss: 0.5887 - accuracy: 0.8367\n",
      "Epoch 11: val_accuracy did not improve from 0.64828\n",
      "21/21 [==============================] - 19s 901ms/step - loss: 0.5887 - accuracy: 0.8367 - val_loss: 1.2757 - val_accuracy: 0.6276\n",
      "Epoch 12/150\n",
      "21/21 [==============================] - ETA: 0s - loss: 0.5468 - accuracy: 0.8444\n",
      "Epoch 12: val_accuracy improved from 0.64828 to 0.66207, saving model to model_checkpoint_20221204-171700.h5\n",
      "21/21 [==============================] - 19s 929ms/step - loss: 0.5468 - accuracy: 0.8444 - val_loss: 1.3843 - val_accuracy: 0.6621\n",
      "Epoch 13/150\n",
      "21/21 [==============================] - ETA: 0s - loss: 0.4751 - accuracy: 0.8675\n",
      "Epoch 13: val_accuracy improved from 0.66207 to 0.67586, saving model to model_checkpoint_20221204-171700.h5\n",
      "21/21 [==============================] - 19s 927ms/step - loss: 0.4751 - accuracy: 0.8675 - val_loss: 1.2398 - val_accuracy: 0.6759\n",
      "Epoch 14/150\n",
      "21/21 [==============================] - ETA: 0s - loss: 0.4605 - accuracy: 0.8798\n",
      "Epoch 14: val_accuracy did not improve from 0.67586\n",
      "21/21 [==============================] - 19s 914ms/step - loss: 0.4605 - accuracy: 0.8798 - val_loss: 1.3330 - val_accuracy: 0.6690\n",
      "Epoch 15/150\n",
      "21/21 [==============================] - ETA: 0s - loss: 0.4557 - accuracy: 0.8675\n",
      "Epoch 15: val_accuracy improved from 0.67586 to 0.68276, saving model to model_checkpoint_20221204-171700.h5\n",
      "21/21 [==============================] - 19s 912ms/step - loss: 0.4557 - accuracy: 0.8675 - val_loss: 1.2566 - val_accuracy: 0.6828\n",
      "Epoch 16/150\n",
      "21/21 [==============================] - ETA: 0s - loss: 0.3610 - accuracy: 0.8983\n",
      "Epoch 16: val_accuracy did not improve from 0.68276\n",
      "21/21 [==============================] - 20s 960ms/step - loss: 0.3610 - accuracy: 0.8983 - val_loss: 1.3506 - val_accuracy: 0.6483\n",
      "Epoch 17/150\n",
      "21/21 [==============================] - ETA: 0s - loss: 0.3168 - accuracy: 0.9214\n",
      "Epoch 17: val_accuracy did not improve from 0.68276\n",
      "21/21 [==============================] - 19s 903ms/step - loss: 0.3168 - accuracy: 0.9214 - val_loss: 1.2539 - val_accuracy: 0.6621\n",
      "Epoch 18/150\n",
      "21/21 [==============================] - ETA: 0s - loss: 0.3415 - accuracy: 0.8891\n",
      "Epoch 18: val_accuracy improved from 0.68276 to 0.70345, saving model to model_checkpoint_20221204-171700.h5\n",
      "21/21 [==============================] - 19s 929ms/step - loss: 0.3415 - accuracy: 0.8891 - val_loss: 1.2919 - val_accuracy: 0.7034\n",
      "Epoch 19/150\n",
      "21/21 [==============================] - ETA: 0s - loss: 0.3629 - accuracy: 0.8783\n",
      "Epoch 19: val_accuracy did not improve from 0.70345\n",
      "21/21 [==============================] - 19s 907ms/step - loss: 0.3629 - accuracy: 0.8783 - val_loss: 1.3362 - val_accuracy: 0.6690\n",
      "Epoch 20/150\n",
      "21/21 [==============================] - ETA: 0s - loss: 0.3076 - accuracy: 0.9076\n",
      "Epoch 20: val_accuracy did not improve from 0.70345\n",
      "21/21 [==============================] - 19s 908ms/step - loss: 0.3076 - accuracy: 0.9076 - val_loss: 1.1849 - val_accuracy: 0.6966\n",
      "Epoch 21/150\n",
      "21/21 [==============================] - ETA: 0s - loss: 0.2791 - accuracy: 0.9214\n",
      "Epoch 21: val_accuracy did not improve from 0.70345\n",
      "21/21 [==============================] - 19s 898ms/step - loss: 0.2791 - accuracy: 0.9214 - val_loss: 1.2935 - val_accuracy: 0.6690\n",
      "Epoch 22/150\n",
      "21/21 [==============================] - ETA: 0s - loss: 0.2501 - accuracy: 0.9260\n",
      "Epoch 22: val_accuracy did not improve from 0.70345\n",
      "21/21 [==============================] - 19s 901ms/step - loss: 0.2501 - accuracy: 0.9260 - val_loss: 1.3938 - val_accuracy: 0.6276\n",
      "Epoch 23/150\n",
      "21/21 [==============================] - ETA: 0s - loss: 0.2569 - accuracy: 0.9137\n",
      "Epoch 23: val_accuracy did not improve from 0.70345\n",
      "21/21 [==============================] - 19s 940ms/step - loss: 0.2569 - accuracy: 0.9137 - val_loss: 1.3244 - val_accuracy: 0.6759\n",
      "Epoch 24/150\n",
      "21/21 [==============================] - ETA: 0s - loss: 0.2648 - accuracy: 0.9153\n",
      "Epoch 24: val_accuracy improved from 0.70345 to 0.71724, saving model to model_checkpoint_20221204-171700.h5\n",
      "21/21 [==============================] - 19s 934ms/step - loss: 0.2648 - accuracy: 0.9153 - val_loss: 1.3152 - val_accuracy: 0.7172\n",
      "Epoch 25/150\n",
      "21/21 [==============================] - ETA: 0s - loss: 0.2233 - accuracy: 0.9337\n",
      "Epoch 25: val_accuracy did not improve from 0.71724\n",
      "21/21 [==============================] - 19s 896ms/step - loss: 0.2233 - accuracy: 0.9337 - val_loss: 1.4109 - val_accuracy: 0.7172\n",
      "Epoch 26/150\n",
      "21/21 [==============================] - ETA: 0s - loss: 0.1714 - accuracy: 0.9476\n",
      "Epoch 26: val_accuracy did not improve from 0.71724\n",
      "21/21 [==============================] - 19s 916ms/step - loss: 0.1714 - accuracy: 0.9476 - val_loss: 1.3949 - val_accuracy: 0.7103\n",
      "Epoch 27/150\n",
      "21/21 [==============================] - ETA: 0s - loss: 0.2193 - accuracy: 0.9414\n",
      "Epoch 27: val_accuracy did not improve from 0.71724\n",
      "21/21 [==============================] - 19s 899ms/step - loss: 0.2193 - accuracy: 0.9414 - val_loss: 1.2935 - val_accuracy: 0.6828\n",
      "Epoch 28/150\n",
      "21/21 [==============================] - ETA: 0s - loss: 0.1780 - accuracy: 0.9461\n",
      "Epoch 28: val_accuracy did not improve from 0.71724\n",
      "21/21 [==============================] - 20s 978ms/step - loss: 0.1780 - accuracy: 0.9461 - val_loss: 1.4115 - val_accuracy: 0.6759\n",
      "Epoch 29/150\n",
      "21/21 [==============================] - ETA: 0s - loss: 0.1713 - accuracy: 0.9414\n",
      "Epoch 29: val_accuracy did not improve from 0.71724\n",
      "21/21 [==============================] - 19s 913ms/step - loss: 0.1713 - accuracy: 0.9414 - val_loss: 1.4382 - val_accuracy: 0.6552\n",
      "Epoch 30/150\n",
      "21/21 [==============================] - ETA: 0s - loss: 0.1774 - accuracy: 0.9476\n",
      "Epoch 30: val_accuracy did not improve from 0.71724\n",
      "21/21 [==============================] - 19s 917ms/step - loss: 0.1774 - accuracy: 0.9476 - val_loss: 1.3987 - val_accuracy: 0.6828\n",
      "Epoch 31/150\n",
      "21/21 [==============================] - ETA: 0s - loss: 0.1680 - accuracy: 0.9522\n",
      "Epoch 31: val_accuracy did not improve from 0.71724\n",
      "21/21 [==============================] - 21s 1s/step - loss: 0.1680 - accuracy: 0.9522 - val_loss: 1.4103 - val_accuracy: 0.6897\n",
      "Epoch 32/150\n",
      "21/21 [==============================] - ETA: 0s - loss: 0.2136 - accuracy: 0.9414\n",
      "Epoch 32: val_accuracy did not improve from 0.71724\n",
      "21/21 [==============================] - 19s 913ms/step - loss: 0.2136 - accuracy: 0.9414 - val_loss: 1.4461 - val_accuracy: 0.6759\n",
      "Epoch 33/150\n",
      "21/21 [==============================] - ETA: 0s - loss: 0.1788 - accuracy: 0.9461\n",
      "Epoch 33: val_accuracy did not improve from 0.71724\n",
      "21/21 [==============================] - 19s 900ms/step - loss: 0.1788 - accuracy: 0.9461 - val_loss: 1.2255 - val_accuracy: 0.7103\n",
      "Epoch 34/150\n",
      "21/21 [==============================] - ETA: 0s - loss: 0.1828 - accuracy: 0.9430\n",
      "Epoch 34: val_accuracy did not improve from 0.71724\n",
      "21/21 [==============================] - 19s 898ms/step - loss: 0.1828 - accuracy: 0.9430 - val_loss: 1.2615 - val_accuracy: 0.6828\n",
      "Epoch 35/150\n",
      "21/21 [==============================] - ETA: 0s - loss: 0.1380 - accuracy: 0.9584\n",
      "Epoch 35: val_accuracy did not improve from 0.71724\n",
      "21/21 [==============================] - 19s 906ms/step - loss: 0.1380 - accuracy: 0.9584 - val_loss: 1.2650 - val_accuracy: 0.6621\n",
      "Epoch 36/150\n",
      "21/21 [==============================] - ETA: 0s - loss: 0.1720 - accuracy: 0.9584\n",
      "Epoch 36: val_accuracy did not improve from 0.71724\n",
      "21/21 [==============================] - 19s 907ms/step - loss: 0.1720 - accuracy: 0.9584 - val_loss: 1.3656 - val_accuracy: 0.6759\n",
      "Epoch 37/150\n",
      "21/21 [==============================] - ETA: 0s - loss: 0.1363 - accuracy: 0.9538\n",
      "Epoch 37: val_accuracy did not improve from 0.71724\n",
      "21/21 [==============================] - 19s 911ms/step - loss: 0.1363 - accuracy: 0.9538 - val_loss: 1.4359 - val_accuracy: 0.6966\n",
      "Epoch 38/150\n",
      "21/21 [==============================] - ETA: 0s - loss: 0.1634 - accuracy: 0.9492\n",
      "Epoch 38: val_accuracy did not improve from 0.71724\n",
      "21/21 [==============================] - 19s 911ms/step - loss: 0.1634 - accuracy: 0.9492 - val_loss: 1.3416 - val_accuracy: 0.7034\n",
      "Epoch 39/150\n",
      "21/21 [==============================] - ETA: 0s - loss: 0.1261 - accuracy: 0.9676\n",
      "Epoch 39: val_accuracy did not improve from 0.71724\n",
      "21/21 [==============================] - 19s 911ms/step - loss: 0.1261 - accuracy: 0.9676 - val_loss: 1.3811 - val_accuracy: 0.6966\n",
      "Epoch 40/150\n",
      "21/21 [==============================] - ETA: 0s - loss: 0.1330 - accuracy: 0.9599\n",
      "Epoch 40: val_accuracy did not improve from 0.71724\n",
      "21/21 [==============================] - 20s 973ms/step - loss: 0.1330 - accuracy: 0.9599 - val_loss: 1.2998 - val_accuracy: 0.6897\n",
      "Epoch 41/150\n",
      "21/21 [==============================] - ETA: 0s - loss: 0.1323 - accuracy: 0.9584\n",
      "Epoch 41: val_accuracy did not improve from 0.71724\n",
      "21/21 [==============================] - 19s 910ms/step - loss: 0.1323 - accuracy: 0.9584 - val_loss: 1.3808 - val_accuracy: 0.6690\n",
      "Epoch 42/150\n",
      "21/21 [==============================] - ETA: 0s - loss: 0.1171 - accuracy: 0.9630\n",
      "Epoch 42: val_accuracy improved from 0.71724 to 0.72414, saving model to model_checkpoint_20221204-171700.h5\n",
      "21/21 [==============================] - 19s 925ms/step - loss: 0.1171 - accuracy: 0.9630 - val_loss: 1.3084 - val_accuracy: 0.7241\n",
      "Epoch 43/150\n",
      "21/21 [==============================] - ETA: 0s - loss: 0.1203 - accuracy: 0.9584\n",
      "Epoch 43: val_accuracy did not improve from 0.72414\n",
      "21/21 [==============================] - 19s 895ms/step - loss: 0.1203 - accuracy: 0.9584 - val_loss: 1.5035 - val_accuracy: 0.6483\n",
      "Epoch 44/150\n",
      "21/21 [==============================] - ETA: 0s - loss: 0.0867 - accuracy: 0.9738\n",
      "Epoch 44: val_accuracy improved from 0.72414 to 0.75172, saving model to model_checkpoint_20221204-171700.h5\n",
      "21/21 [==============================] - 19s 928ms/step - loss: 0.0867 - accuracy: 0.9738 - val_loss: 1.2070 - val_accuracy: 0.7517\n",
      "Epoch 45/150\n",
      "21/21 [==============================] - ETA: 0s - loss: 0.1167 - accuracy: 0.9661\n",
      "Epoch 45: val_accuracy did not improve from 0.75172\n",
      "21/21 [==============================] - 19s 887ms/step - loss: 0.1167 - accuracy: 0.9661 - val_loss: 1.2451 - val_accuracy: 0.7310\n",
      "Epoch 46/150\n",
      "21/21 [==============================] - ETA: 0s - loss: 0.0969 - accuracy: 0.9707\n",
      "Epoch 46: val_accuracy did not improve from 0.75172\n",
      "21/21 [==============================] - 19s 884ms/step - loss: 0.0969 - accuracy: 0.9707 - val_loss: 1.3953 - val_accuracy: 0.6690\n",
      "Epoch 47/150\n",
      "21/21 [==============================] - ETA: 0s - loss: 0.0970 - accuracy: 0.9800\n",
      "Epoch 47: val_accuracy did not improve from 0.75172\n",
      "21/21 [==============================] - 19s 902ms/step - loss: 0.0970 - accuracy: 0.9800 - val_loss: 1.3924 - val_accuracy: 0.7034\n",
      "Epoch 48/150\n",
      "21/21 [==============================] - ETA: 0s - loss: 0.1225 - accuracy: 0.9646\n",
      "Epoch 48: val_accuracy did not improve from 0.75172\n",
      "21/21 [==============================] - 19s 905ms/step - loss: 0.1225 - accuracy: 0.9646 - val_loss: 1.3777 - val_accuracy: 0.6966\n",
      "Epoch 49/150\n",
      "21/21 [==============================] - ETA: 0s - loss: 0.1180 - accuracy: 0.9646\n",
      "Epoch 49: val_accuracy did not improve from 0.75172\n",
      "21/21 [==============================] - 19s 902ms/step - loss: 0.1180 - accuracy: 0.9646 - val_loss: 1.2059 - val_accuracy: 0.7310\n",
      "Epoch 50/150\n",
      "21/21 [==============================] - ETA: 0s - loss: 0.1402 - accuracy: 0.9599\n",
      "Epoch 50: val_accuracy did not improve from 0.75172\n",
      "21/21 [==============================] - 19s 910ms/step - loss: 0.1402 - accuracy: 0.9599 - val_loss: 1.3950 - val_accuracy: 0.7172\n",
      "Epoch 51/150\n",
      "21/21 [==============================] - ETA: 0s - loss: 0.1329 - accuracy: 0.9615\n",
      "Epoch 51: val_accuracy did not improve from 0.75172\n",
      "21/21 [==============================] - 19s 906ms/step - loss: 0.1329 - accuracy: 0.9615 - val_loss: 1.3689 - val_accuracy: 0.7172\n",
      "Epoch 52/150\n",
      "21/21 [==============================] - ETA: 0s - loss: 0.0814 - accuracy: 0.9831\n",
      "Epoch 52: val_accuracy did not improve from 0.75172\n",
      "21/21 [==============================] - 20s 970ms/step - loss: 0.0814 - accuracy: 0.9831 - val_loss: 1.4079 - val_accuracy: 0.7034\n",
      "Epoch 53/150\n",
      "21/21 [==============================] - ETA: 0s - loss: 0.0861 - accuracy: 0.9753\n",
      "Epoch 53: val_accuracy did not improve from 0.75172\n",
      "21/21 [==============================] - 19s 898ms/step - loss: 0.0861 - accuracy: 0.9753 - val_loss: 1.3490 - val_accuracy: 0.6621\n",
      "Epoch 54/150\n",
      "21/21 [==============================] - ETA: 0s - loss: 0.1286 - accuracy: 0.9584\n",
      "Epoch 54: val_accuracy did not improve from 0.75172\n",
      "21/21 [==============================] - 19s 903ms/step - loss: 0.1286 - accuracy: 0.9584 - val_loss: 1.3911 - val_accuracy: 0.6759\n",
      "Epoch 55/150\n",
      "21/21 [==============================] - ETA: 0s - loss: 0.1558 - accuracy: 0.9492\n",
      "Epoch 55: val_accuracy did not improve from 0.75172\n",
      "21/21 [==============================] - 19s 906ms/step - loss: 0.1558 - accuracy: 0.9492 - val_loss: 1.4559 - val_accuracy: 0.7310\n",
      "Epoch 56/150\n",
      "21/21 [==============================] - ETA: 0s - loss: 0.1305 - accuracy: 0.9599\n",
      "Epoch 56: val_accuracy did not improve from 0.75172\n",
      "21/21 [==============================] - 19s 914ms/step - loss: 0.1305 - accuracy: 0.9599 - val_loss: 1.5112 - val_accuracy: 0.7034\n",
      "Epoch 57/150\n",
      "21/21 [==============================] - ETA: 0s - loss: 0.0908 - accuracy: 0.9738\n",
      "Epoch 57: val_accuracy did not improve from 0.75172\n",
      "21/21 [==============================] - 19s 902ms/step - loss: 0.0908 - accuracy: 0.9738 - val_loss: 1.5750 - val_accuracy: 0.6966\n",
      "Epoch 58/150\n",
      "21/21 [==============================] - ETA: 0s - loss: 0.1072 - accuracy: 0.9707\n",
      "Epoch 58: val_accuracy did not improve from 0.75172\n",
      "21/21 [==============================] - 19s 905ms/step - loss: 0.1072 - accuracy: 0.9707 - val_loss: 1.4225 - val_accuracy: 0.6690\n",
      "Epoch 59/150\n",
      "21/21 [==============================] - ETA: 0s - loss: 0.0797 - accuracy: 0.9753\n",
      "Epoch 59: val_accuracy did not improve from 0.75172\n",
      "21/21 [==============================] - 19s 931ms/step - loss: 0.0797 - accuracy: 0.9753 - val_loss: 1.2541 - val_accuracy: 0.7241\n",
      "Epoch 60/150\n",
      "21/21 [==============================] - ETA: 0s - loss: 0.1056 - accuracy: 0.9676\n",
      "Epoch 60: val_accuracy did not improve from 0.75172\n",
      "21/21 [==============================] - 19s 903ms/step - loss: 0.1056 - accuracy: 0.9676 - val_loss: 1.4342 - val_accuracy: 0.7310\n",
      "Epoch 61/150\n",
      "21/21 [==============================] - ETA: 0s - loss: 0.0709 - accuracy: 0.9861\n",
      "Epoch 61: val_accuracy did not improve from 0.75172\n",
      "21/21 [==============================] - 19s 904ms/step - loss: 0.0709 - accuracy: 0.9861 - val_loss: 1.3549 - val_accuracy: 0.6966\n",
      "Epoch 62/150\n",
      "21/21 [==============================] - ETA: 0s - loss: 0.0619 - accuracy: 0.9815\n",
      "Epoch 62: val_accuracy did not improve from 0.75172\n",
      "21/21 [==============================] - 19s 897ms/step - loss: 0.0619 - accuracy: 0.9815 - val_loss: 1.3391 - val_accuracy: 0.6759\n",
      "Epoch 63/150\n",
      "21/21 [==============================] - ETA: 0s - loss: 0.0647 - accuracy: 0.9861\n",
      "Epoch 63: val_accuracy did not improve from 0.75172\n",
      "21/21 [==============================] - 20s 966ms/step - loss: 0.0647 - accuracy: 0.9861 - val_loss: 1.2123 - val_accuracy: 0.7241\n",
      "Epoch 64/150\n",
      "21/21 [==============================] - ETA: 0s - loss: 0.0610 - accuracy: 0.9846\n",
      "Epoch 64: val_accuracy did not improve from 0.75172\n",
      "21/21 [==============================] - 19s 893ms/step - loss: 0.0610 - accuracy: 0.9846 - val_loss: 1.4108 - val_accuracy: 0.6966\n",
      "Epoch 65/150\n",
      "21/21 [==============================] - ETA: 0s - loss: 0.0999 - accuracy: 0.9753\n",
      "Epoch 65: val_accuracy did not improve from 0.75172\n",
      "21/21 [==============================] - 19s 897ms/step - loss: 0.0999 - accuracy: 0.9753 - val_loss: 1.5672 - val_accuracy: 0.6897\n",
      "Epoch 66/150\n",
      "21/21 [==============================] - ETA: 0s - loss: 0.1013 - accuracy: 0.9646\n",
      "Epoch 66: val_accuracy did not improve from 0.75172\n",
      "21/21 [==============================] - 19s 897ms/step - loss: 0.1013 - accuracy: 0.9646 - val_loss: 1.4432 - val_accuracy: 0.7310\n",
      "Epoch 67/150\n",
      "21/21 [==============================] - ETA: 0s - loss: 0.0727 - accuracy: 0.9861\n",
      "Epoch 67: val_accuracy did not improve from 0.75172\n",
      "21/21 [==============================] - 19s 892ms/step - loss: 0.0727 - accuracy: 0.9861 - val_loss: 1.5043 - val_accuracy: 0.6966\n",
      "Epoch 68/150\n",
      "21/21 [==============================] - ETA: 0s - loss: 0.0684 - accuracy: 0.9831\n",
      "Epoch 68: val_accuracy did not improve from 0.75172\n",
      "21/21 [==============================] - 19s 892ms/step - loss: 0.0684 - accuracy: 0.9831 - val_loss: 1.3715 - val_accuracy: 0.7103\n",
      "Epoch 69/150\n",
      "21/21 [==============================] - ETA: 0s - loss: 0.0466 - accuracy: 0.9877\n",
      "Epoch 69: val_accuracy did not improve from 0.75172\n",
      "21/21 [==============================] - 19s 903ms/step - loss: 0.0466 - accuracy: 0.9877 - val_loss: 1.3763 - val_accuracy: 0.7103\n",
      "Epoch 70/150\n",
      "21/21 [==============================] - ETA: 0s - loss: 0.0672 - accuracy: 0.9831\n",
      "Epoch 70: val_accuracy did not improve from 0.75172\n",
      "21/21 [==============================] - 19s 912ms/step - loss: 0.0672 - accuracy: 0.9831 - val_loss: 1.5918 - val_accuracy: 0.7172\n",
      "Epoch 71/150\n",
      "21/21 [==============================] - ETA: 0s - loss: 0.0454 - accuracy: 0.9861\n",
      "Epoch 71: val_accuracy did not improve from 0.75172\n",
      "21/21 [==============================] - 19s 908ms/step - loss: 0.0454 - accuracy: 0.9861 - val_loss: 1.5305 - val_accuracy: 0.7172\n",
      "Epoch 72/150\n",
      "21/21 [==============================] - ETA: 0s - loss: 0.0707 - accuracy: 0.9738\n",
      "Epoch 72: val_accuracy did not improve from 0.75172\n",
      "21/21 [==============================] - 19s 925ms/step - loss: 0.0707 - accuracy: 0.9738 - val_loss: 1.6827 - val_accuracy: 0.6966\n",
      "Epoch 73/150\n",
      "21/21 [==============================] - ETA: 0s - loss: 0.0748 - accuracy: 0.9769\n",
      "Epoch 73: val_accuracy did not improve from 0.75172\n",
      "21/21 [==============================] - 19s 911ms/step - loss: 0.0748 - accuracy: 0.9769 - val_loss: 1.5683 - val_accuracy: 0.6690\n",
      "Epoch 74/150\n",
      "21/21 [==============================] - ETA: 0s - loss: 0.0781 - accuracy: 0.9738\n",
      "Epoch 74: val_accuracy did not improve from 0.75172\n",
      "21/21 [==============================] - 19s 888ms/step - loss: 0.0781 - accuracy: 0.9738 - val_loss: 1.5275 - val_accuracy: 0.7034\n",
      "Epoch 75/150\n",
      "21/21 [==============================] - ETA: 0s - loss: 0.0986 - accuracy: 0.9646\n",
      "Epoch 75: val_accuracy did not improve from 0.75172\n",
      "21/21 [==============================] - 20s 959ms/step - loss: 0.0986 - accuracy: 0.9646 - val_loss: 1.4443 - val_accuracy: 0.7172\n",
      "Epoch 76/150\n",
      "21/21 [==============================] - ETA: 0s - loss: 0.1050 - accuracy: 0.9738\n",
      "Epoch 76: val_accuracy did not improve from 0.75172\n",
      "21/21 [==============================] - 19s 905ms/step - loss: 0.1050 - accuracy: 0.9738 - val_loss: 1.2951 - val_accuracy: 0.7310\n",
      "Epoch 77/150\n",
      "21/21 [==============================] - ETA: 0s - loss: 0.0721 - accuracy: 0.9753\n",
      "Epoch 77: val_accuracy did not improve from 0.75172\n",
      "21/21 [==============================] - 19s 905ms/step - loss: 0.0721 - accuracy: 0.9753 - val_loss: 1.3309 - val_accuracy: 0.6966\n",
      "Epoch 78/150\n",
      "21/21 [==============================] - ETA: 0s - loss: 0.0837 - accuracy: 0.9769\n",
      "Epoch 78: val_accuracy did not improve from 0.75172\n",
      "21/21 [==============================] - 19s 902ms/step - loss: 0.0837 - accuracy: 0.9769 - val_loss: 1.3244 - val_accuracy: 0.7172\n",
      "Epoch 79/150\n",
      "21/21 [==============================] - ETA: 0s - loss: 0.0663 - accuracy: 0.9800\n",
      "Epoch 79: val_accuracy did not improve from 0.75172\n",
      "21/21 [==============================] - 19s 903ms/step - loss: 0.0663 - accuracy: 0.9800 - val_loss: 1.3547 - val_accuracy: 0.7379\n",
      "Epoch 80/150\n",
      "21/21 [==============================] - ETA: 0s - loss: 0.0629 - accuracy: 0.9846\n",
      "Epoch 80: val_accuracy did not improve from 0.75172\n",
      "21/21 [==============================] - 19s 892ms/step - loss: 0.0629 - accuracy: 0.9846 - val_loss: 1.2654 - val_accuracy: 0.7034\n",
      "Epoch 81/150\n",
      "21/21 [==============================] - ETA: 0s - loss: 0.0409 - accuracy: 0.9877\n",
      "Epoch 81: val_accuracy did not improve from 0.75172\n",
      "21/21 [==============================] - 19s 899ms/step - loss: 0.0409 - accuracy: 0.9877 - val_loss: 1.3398 - val_accuracy: 0.7103\n",
      "Epoch 82/150\n",
      "21/21 [==============================] - ETA: 0s - loss: 0.0655 - accuracy: 0.9753\n",
      "Epoch 82: val_accuracy did not improve from 0.75172\n",
      "21/21 [==============================] - 19s 911ms/step - loss: 0.0655 - accuracy: 0.9753 - val_loss: 1.3361 - val_accuracy: 0.7379\n",
      "Epoch 83/150\n",
      "21/21 [==============================] - ETA: 0s - loss: 0.1078 - accuracy: 0.9661\n",
      "Epoch 83: val_accuracy did not improve from 0.75172\n",
      "21/21 [==============================] - 19s 905ms/step - loss: 0.1078 - accuracy: 0.9661 - val_loss: 1.3609 - val_accuracy: 0.6759\n",
      "Epoch 84/150\n",
      "21/21 [==============================] - ETA: 0s - loss: 0.0577 - accuracy: 0.9846\n",
      "Epoch 84: val_accuracy did not improve from 0.75172\n",
      "21/21 [==============================] - 19s 908ms/step - loss: 0.0577 - accuracy: 0.9846 - val_loss: 1.4972 - val_accuracy: 0.7103\n",
      "Epoch 85/150\n",
      "21/21 [==============================] - ETA: 0s - loss: 0.0849 - accuracy: 0.9753\n",
      "Epoch 85: val_accuracy did not improve from 0.75172\n",
      "21/21 [==============================] - 19s 902ms/step - loss: 0.0849 - accuracy: 0.9753 - val_loss: 1.4752 - val_accuracy: 0.6897\n",
      "Epoch 86/150\n",
      "21/21 [==============================] - ETA: 0s - loss: 0.0495 - accuracy: 0.9861\n",
      "Epoch 86: val_accuracy did not improve from 0.75172\n",
      "21/21 [==============================] - 20s 953ms/step - loss: 0.0495 - accuracy: 0.9861 - val_loss: 1.4068 - val_accuracy: 0.6966\n",
      "Epoch 87/150\n",
      "21/21 [==============================] - ETA: 0s - loss: 0.0652 - accuracy: 0.9753\n",
      "Epoch 87: val_accuracy did not improve from 0.75172\n",
      "21/21 [==============================] - 19s 906ms/step - loss: 0.0652 - accuracy: 0.9753 - val_loss: 1.3492 - val_accuracy: 0.6828\n",
      "Epoch 88/150\n",
      "21/21 [==============================] - ETA: 0s - loss: 0.0757 - accuracy: 0.9769\n",
      "Epoch 88: val_accuracy did not improve from 0.75172\n",
      "21/21 [==============================] - 19s 907ms/step - loss: 0.0757 - accuracy: 0.9769 - val_loss: 1.3712 - val_accuracy: 0.7172\n",
      "Epoch 89/150\n",
      "21/21 [==============================] - ETA: 0s - loss: 0.0570 - accuracy: 0.9815\n",
      "Epoch 89: val_accuracy did not improve from 0.75172\n",
      "21/21 [==============================] - 19s 908ms/step - loss: 0.0570 - accuracy: 0.9815 - val_loss: 1.4545 - val_accuracy: 0.6828\n",
      "Epoch 90/150\n",
      "21/21 [==============================] - ETA: 0s - loss: 0.0711 - accuracy: 0.9769\n",
      "Epoch 90: val_accuracy did not improve from 0.75172\n",
      "21/21 [==============================] - 19s 905ms/step - loss: 0.0711 - accuracy: 0.9769 - val_loss: 1.5025 - val_accuracy: 0.7034\n",
      "Epoch 91/150\n",
      "21/21 [==============================] - ETA: 0s - loss: 0.0890 - accuracy: 0.9738\n",
      "Epoch 91: val_accuracy did not improve from 0.75172\n",
      "21/21 [==============================] - 19s 897ms/step - loss: 0.0890 - accuracy: 0.9738 - val_loss: 1.1441 - val_accuracy: 0.7034\n",
      "Epoch 92/150\n",
      "21/21 [==============================] - ETA: 0s - loss: 0.0728 - accuracy: 0.9815\n",
      "Epoch 92: val_accuracy did not improve from 0.75172\n",
      "21/21 [==============================] - 19s 897ms/step - loss: 0.0728 - accuracy: 0.9815 - val_loss: 1.2471 - val_accuracy: 0.7448\n",
      "Epoch 93/150\n",
      "21/21 [==============================] - ETA: 0s - loss: 0.0654 - accuracy: 0.9784\n",
      "Epoch 93: val_accuracy did not improve from 0.75172\n",
      "21/21 [==============================] - 19s 890ms/step - loss: 0.0654 - accuracy: 0.9784 - val_loss: 1.6016 - val_accuracy: 0.7517\n",
      "Epoch 94/150\n",
      "21/21 [==============================] - ETA: 0s - loss: 0.0614 - accuracy: 0.9831\n",
      "Epoch 94: val_accuracy did not improve from 0.75172\n",
      "21/21 [==============================] - 19s 900ms/step - loss: 0.0614 - accuracy: 0.9831 - val_loss: 1.2216 - val_accuracy: 0.7241\n",
      "Epoch 95/150\n",
      "21/21 [==============================] - ETA: 0s - loss: 0.0769 - accuracy: 0.9753\n",
      "Epoch 95: val_accuracy did not improve from 0.75172\n",
      "21/21 [==============================] - 19s 903ms/step - loss: 0.0769 - accuracy: 0.9753 - val_loss: 1.4632 - val_accuracy: 0.7034\n",
      "Epoch 96/150\n",
      "21/21 [==============================] - ETA: 0s - loss: 0.0594 - accuracy: 0.9815\n",
      "Epoch 96: val_accuracy did not improve from 0.75172\n",
      "21/21 [==============================] - 19s 895ms/step - loss: 0.0594 - accuracy: 0.9815 - val_loss: 1.3442 - val_accuracy: 0.6966\n",
      "Epoch 97/150\n",
      "21/21 [==============================] - ETA: 0s - loss: 0.0853 - accuracy: 0.9723\n",
      "Epoch 97: val_accuracy did not improve from 0.75172\n",
      "21/21 [==============================] - 19s 890ms/step - loss: 0.0853 - accuracy: 0.9723 - val_loss: 1.5817 - val_accuracy: 0.6966\n",
      "Epoch 98/150\n",
      "21/21 [==============================] - ETA: 0s - loss: 0.0744 - accuracy: 0.9738\n",
      "Epoch 98: val_accuracy did not improve from 0.75172\n",
      "21/21 [==============================] - 20s 968ms/step - loss: 0.0744 - accuracy: 0.9738 - val_loss: 1.6121 - val_accuracy: 0.7241\n",
      "Epoch 99/150\n",
      "21/21 [==============================] - ETA: 0s - loss: 0.0799 - accuracy: 0.9753\n",
      "Epoch 99: val_accuracy did not improve from 0.75172\n",
      "21/21 [==============================] - 19s 903ms/step - loss: 0.0799 - accuracy: 0.9753 - val_loss: 1.4599 - val_accuracy: 0.6897\n",
      "Epoch 100/150\n",
      "21/21 [==============================] - ETA: 0s - loss: 0.0640 - accuracy: 0.9784\n",
      "Epoch 100: val_accuracy did not improve from 0.75172\n",
      "21/21 [==============================] - 20s 986ms/step - loss: 0.0640 - accuracy: 0.9784 - val_loss: 1.3545 - val_accuracy: 0.7310\n",
      "Epoch 101/150\n",
      "21/21 [==============================] - ETA: 0s - loss: 0.0605 - accuracy: 0.9846\n",
      "Epoch 101: val_accuracy did not improve from 0.75172\n",
      "21/21 [==============================] - 19s 902ms/step - loss: 0.0605 - accuracy: 0.9846 - val_loss: 1.2971 - val_accuracy: 0.7310\n",
      "Epoch 102/150\n",
      "21/21 [==============================] - ETA: 0s - loss: 0.0667 - accuracy: 0.9800\n",
      "Epoch 102: val_accuracy did not improve from 0.75172\n",
      "21/21 [==============================] - 19s 888ms/step - loss: 0.0667 - accuracy: 0.9800 - val_loss: 1.3314 - val_accuracy: 0.7172\n",
      "Epoch 103/150\n",
      "21/21 [==============================] - ETA: 0s - loss: 0.0620 - accuracy: 0.9784\n",
      "Epoch 103: val_accuracy did not improve from 0.75172\n",
      "21/21 [==============================] - 19s 891ms/step - loss: 0.0620 - accuracy: 0.9784 - val_loss: 1.3029 - val_accuracy: 0.7172\n",
      "Epoch 104/150\n",
      "21/21 [==============================] - ETA: 0s - loss: 0.0888 - accuracy: 0.9738\n",
      "Epoch 104: val_accuracy did not improve from 0.75172\n",
      "21/21 [==============================] - 19s 898ms/step - loss: 0.0888 - accuracy: 0.9738 - val_loss: 1.6673 - val_accuracy: 0.6759\n",
      "Epoch 105/150\n",
      "21/21 [==============================] - ETA: 0s - loss: 0.0866 - accuracy: 0.9784\n",
      "Epoch 105: val_accuracy did not improve from 0.75172\n",
      "21/21 [==============================] - 19s 906ms/step - loss: 0.0866 - accuracy: 0.9784 - val_loss: 1.4472 - val_accuracy: 0.7034\n",
      "Epoch 106/150\n",
      "21/21 [==============================] - ETA: 0s - loss: 0.0657 - accuracy: 0.9784\n",
      "Epoch 106: val_accuracy did not improve from 0.75172\n",
      "21/21 [==============================] - 19s 889ms/step - loss: 0.0657 - accuracy: 0.9784 - val_loss: 1.7093 - val_accuracy: 0.7241\n",
      "Epoch 107/150\n",
      "21/21 [==============================] - ETA: 0s - loss: 0.0477 - accuracy: 0.9846\n",
      "Epoch 107: val_accuracy did not improve from 0.75172\n",
      "21/21 [==============================] - 19s 895ms/step - loss: 0.0477 - accuracy: 0.9846 - val_loss: 1.3620 - val_accuracy: 0.6759\n",
      "Epoch 108/150\n",
      "21/21 [==============================] - ETA: 0s - loss: 0.0344 - accuracy: 0.9938\n",
      "Epoch 108: val_accuracy did not improve from 0.75172\n",
      "21/21 [==============================] - 19s 890ms/step - loss: 0.0344 - accuracy: 0.9938 - val_loss: 1.3230 - val_accuracy: 0.7103\n",
      "Epoch 109/150\n",
      "21/21 [==============================] - ETA: 0s - loss: 0.0507 - accuracy: 0.9877\n",
      "Epoch 109: val_accuracy did not improve from 0.75172\n",
      "21/21 [==============================] - 20s 952ms/step - loss: 0.0507 - accuracy: 0.9877 - val_loss: 1.1457 - val_accuracy: 0.7379\n",
      "Epoch 110/150\n",
      "21/21 [==============================] - ETA: 0s - loss: 0.0635 - accuracy: 0.9861\n",
      "Epoch 110: val_accuracy did not improve from 0.75172\n",
      "21/21 [==============================] - 19s 898ms/step - loss: 0.0635 - accuracy: 0.9861 - val_loss: 1.4247 - val_accuracy: 0.7034\n",
      "Epoch 111/150\n",
      "21/21 [==============================] - ETA: 0s - loss: 0.0790 - accuracy: 0.9784\n",
      "Epoch 111: val_accuracy did not improve from 0.75172\n",
      "21/21 [==============================] - 19s 922ms/step - loss: 0.0790 - accuracy: 0.9784 - val_loss: 1.7978 - val_accuracy: 0.6690\n",
      "Epoch 112/150\n",
      "21/21 [==============================] - ETA: 0s - loss: 0.0778 - accuracy: 0.9753\n",
      "Epoch 112: val_accuracy did not improve from 0.75172\n",
      "21/21 [==============================] - 19s 888ms/step - loss: 0.0778 - accuracy: 0.9753 - val_loss: 1.5891 - val_accuracy: 0.6690\n",
      "Epoch 113/150\n",
      "21/21 [==============================] - ETA: 0s - loss: 0.0614 - accuracy: 0.9815\n",
      "Epoch 113: val_accuracy did not improve from 0.75172\n",
      "21/21 [==============================] - 19s 893ms/step - loss: 0.0614 - accuracy: 0.9815 - val_loss: 1.2954 - val_accuracy: 0.7517\n",
      "Epoch 114/150\n",
      "21/21 [==============================] - ETA: 0s - loss: 0.0679 - accuracy: 0.9753\n",
      "Epoch 114: val_accuracy did not improve from 0.75172\n",
      "21/21 [==============================] - 19s 892ms/step - loss: 0.0679 - accuracy: 0.9753 - val_loss: 1.3978 - val_accuracy: 0.7103\n",
      "Epoch 115/150\n",
      "21/21 [==============================] - ETA: 0s - loss: 0.0717 - accuracy: 0.9815\n",
      "Epoch 115: val_accuracy did not improve from 0.75172\n",
      "21/21 [==============================] - 19s 901ms/step - loss: 0.0717 - accuracy: 0.9815 - val_loss: 1.3547 - val_accuracy: 0.7172\n",
      "Epoch 116/150\n",
      "21/21 [==============================] - ETA: 0s - loss: 0.0598 - accuracy: 0.9861\n",
      "Epoch 116: val_accuracy did not improve from 0.75172\n",
      "21/21 [==============================] - 19s 889ms/step - loss: 0.0598 - accuracy: 0.9861 - val_loss: 1.3255 - val_accuracy: 0.6828\n",
      "Epoch 117/150\n",
      "21/21 [==============================] - ETA: 0s - loss: 0.0740 - accuracy: 0.9784\n",
      "Epoch 117: val_accuracy did not improve from 0.75172\n",
      "21/21 [==============================] - 19s 892ms/step - loss: 0.0740 - accuracy: 0.9784 - val_loss: 1.5753 - val_accuracy: 0.7034\n",
      "Epoch 118/150\n",
      "21/21 [==============================] - ETA: 0s - loss: 0.0579 - accuracy: 0.9815\n",
      "Epoch 118: val_accuracy did not improve from 0.75172\n",
      "21/21 [==============================] - 19s 895ms/step - loss: 0.0579 - accuracy: 0.9815 - val_loss: 1.5698 - val_accuracy: 0.6759\n",
      "Epoch 119/150\n",
      "21/21 [==============================] - ETA: 0s - loss: 0.0531 - accuracy: 0.9846\n",
      "Epoch 119: val_accuracy did not improve from 0.75172\n",
      "21/21 [==============================] - 20s 969ms/step - loss: 0.0531 - accuracy: 0.9846 - val_loss: 1.2084 - val_accuracy: 0.7034\n",
      "Epoch 120/150\n",
      "21/21 [==============================] - ETA: 0s - loss: 0.0646 - accuracy: 0.9738\n",
      "Epoch 120: val_accuracy did not improve from 0.75172\n",
      "21/21 [==============================] - 20s 955ms/step - loss: 0.0646 - accuracy: 0.9738 - val_loss: 1.4186 - val_accuracy: 0.6897\n",
      "Epoch 121/150\n",
      "21/21 [==============================] - ETA: 0s - loss: 0.0733 - accuracy: 0.9769\n",
      "Epoch 121: val_accuracy did not improve from 0.75172\n",
      "21/21 [==============================] - 19s 890ms/step - loss: 0.0733 - accuracy: 0.9769 - val_loss: 1.3222 - val_accuracy: 0.7310\n",
      "Epoch 122/150\n",
      "21/21 [==============================] - ETA: 0s - loss: 0.0766 - accuracy: 0.9784\n",
      "Epoch 122: val_accuracy improved from 0.75172 to 0.75862, saving model to model_checkpoint_20221204-171700.h5\n",
      "21/21 [==============================] - 19s 915ms/step - loss: 0.0766 - accuracy: 0.9784 - val_loss: 1.2874 - val_accuracy: 0.7586\n",
      "Epoch 123/150\n",
      "21/21 [==============================] - ETA: 0s - loss: 0.0746 - accuracy: 0.9831\n",
      "Epoch 123: val_accuracy did not improve from 0.75862\n",
      "21/21 [==============================] - 19s 895ms/step - loss: 0.0746 - accuracy: 0.9831 - val_loss: 1.2916 - val_accuracy: 0.7310\n",
      "Epoch 124/150\n",
      "21/21 [==============================] - ETA: 0s - loss: 0.0519 - accuracy: 0.9815\n",
      "Epoch 124: val_accuracy did not improve from 0.75862\n",
      "21/21 [==============================] - 19s 893ms/step - loss: 0.0519 - accuracy: 0.9815 - val_loss: 1.4632 - val_accuracy: 0.6690\n",
      "Epoch 125/150\n",
      "21/21 [==============================] - ETA: 0s - loss: 0.0487 - accuracy: 0.9846\n",
      "Epoch 125: val_accuracy did not improve from 0.75862\n",
      "21/21 [==============================] - 19s 892ms/step - loss: 0.0487 - accuracy: 0.9846 - val_loss: 1.5832 - val_accuracy: 0.6828\n",
      "Epoch 126/150\n",
      "21/21 [==============================] - ETA: 0s - loss: 0.0467 - accuracy: 0.9846\n",
      "Epoch 126: val_accuracy did not improve from 0.75862\n",
      "21/21 [==============================] - 19s 893ms/step - loss: 0.0467 - accuracy: 0.9846 - val_loss: 1.3441 - val_accuracy: 0.7241\n",
      "Epoch 127/150\n",
      "21/21 [==============================] - ETA: 0s - loss: 0.0353 - accuracy: 0.9908\n",
      "Epoch 127: val_accuracy did not improve from 0.75862\n",
      "21/21 [==============================] - 19s 878ms/step - loss: 0.0353 - accuracy: 0.9908 - val_loss: 1.3810 - val_accuracy: 0.7241\n",
      "Epoch 128/150\n",
      "21/21 [==============================] - ETA: 0s - loss: 0.0475 - accuracy: 0.9861\n",
      "Epoch 128: val_accuracy did not improve from 0.75862\n",
      "21/21 [==============================] - 19s 898ms/step - loss: 0.0475 - accuracy: 0.9861 - val_loss: 1.6403 - val_accuracy: 0.6759\n",
      "Epoch 129/150\n",
      "21/21 [==============================] - ETA: 0s - loss: 0.0388 - accuracy: 0.9892\n",
      "Epoch 129: val_accuracy did not improve from 0.75862\n",
      "21/21 [==============================] - 19s 899ms/step - loss: 0.0388 - accuracy: 0.9892 - val_loss: 1.3870 - val_accuracy: 0.7241\n",
      "Epoch 130/150\n",
      "21/21 [==============================] - ETA: 0s - loss: 0.0461 - accuracy: 0.9892\n",
      "Epoch 130: val_accuracy did not improve from 0.75862\n",
      "21/21 [==============================] - 19s 892ms/step - loss: 0.0461 - accuracy: 0.9892 - val_loss: 1.2781 - val_accuracy: 0.7448\n",
      "Epoch 131/150\n",
      "21/21 [==============================] - ETA: 0s - loss: 0.0526 - accuracy: 0.9861\n",
      "Epoch 131: val_accuracy did not improve from 0.75862\n",
      "21/21 [==============================] - 20s 959ms/step - loss: 0.0526 - accuracy: 0.9861 - val_loss: 1.7684 - val_accuracy: 0.6690\n",
      "Epoch 132/150\n",
      "21/21 [==============================] - ETA: 0s - loss: 0.1013 - accuracy: 0.9707\n",
      "Epoch 132: val_accuracy did not improve from 0.75862\n",
      "21/21 [==============================] - 19s 900ms/step - loss: 0.1013 - accuracy: 0.9707 - val_loss: 1.5834 - val_accuracy: 0.6897\n",
      "Epoch 133/150\n",
      "21/21 [==============================] - ETA: 0s - loss: 0.0536 - accuracy: 0.9831\n",
      "Epoch 133: val_accuracy did not improve from 0.75862\n",
      "21/21 [==============================] - 19s 905ms/step - loss: 0.0536 - accuracy: 0.9831 - val_loss: 1.4558 - val_accuracy: 0.7310\n",
      "Epoch 134/150\n",
      "21/21 [==============================] - ETA: 0s - loss: 0.0767 - accuracy: 0.9753\n",
      "Epoch 134: val_accuracy did not improve from 0.75862\n",
      "21/21 [==============================] - 19s 890ms/step - loss: 0.0767 - accuracy: 0.9753 - val_loss: 1.5746 - val_accuracy: 0.7103\n",
      "Epoch 135/150\n",
      "21/21 [==============================] - ETA: 0s - loss: 0.0735 - accuracy: 0.9815\n",
      "Epoch 135: val_accuracy did not improve from 0.75862\n",
      "21/21 [==============================] - 19s 895ms/step - loss: 0.0735 - accuracy: 0.9815 - val_loss: 1.7533 - val_accuracy: 0.6759\n",
      "Epoch 136/150\n",
      "21/21 [==============================] - ETA: 0s - loss: 0.0506 - accuracy: 0.9877\n",
      "Epoch 136: val_accuracy did not improve from 0.75862\n",
      "21/21 [==============================] - 19s 891ms/step - loss: 0.0506 - accuracy: 0.9877 - val_loss: 1.3197 - val_accuracy: 0.7103\n",
      "Epoch 137/150\n",
      "21/21 [==============================] - ETA: 0s - loss: 0.0271 - accuracy: 0.9923\n",
      "Epoch 137: val_accuracy did not improve from 0.75862\n",
      "21/21 [==============================] - 19s 907ms/step - loss: 0.0271 - accuracy: 0.9923 - val_loss: 1.7078 - val_accuracy: 0.6897\n",
      "Epoch 138/150\n",
      "21/21 [==============================] - ETA: 0s - loss: 0.0697 - accuracy: 0.9769\n",
      "Epoch 138: val_accuracy did not improve from 0.75862\n",
      "21/21 [==============================] - 19s 904ms/step - loss: 0.0697 - accuracy: 0.9769 - val_loss: 1.7688 - val_accuracy: 0.6690\n",
      "Epoch 139/150\n",
      "21/21 [==============================] - ETA: 0s - loss: 0.0480 - accuracy: 0.9846\n",
      "Epoch 139: val_accuracy did not improve from 0.75862\n",
      "21/21 [==============================] - 19s 903ms/step - loss: 0.0480 - accuracy: 0.9846 - val_loss: 1.5802 - val_accuracy: 0.7310\n",
      "Epoch 140/150\n",
      "21/21 [==============================] - ETA: 0s - loss: 0.0425 - accuracy: 0.9892\n",
      "Epoch 140: val_accuracy did not improve from 0.75862\n",
      "21/21 [==============================] - 19s 899ms/step - loss: 0.0425 - accuracy: 0.9892 - val_loss: 1.3320 - val_accuracy: 0.6897\n",
      "Epoch 141/150\n",
      "21/21 [==============================] - ETA: 0s - loss: 0.0465 - accuracy: 0.9861\n",
      "Epoch 141: val_accuracy did not improve from 0.75862\n",
      "21/21 [==============================] - 19s 903ms/step - loss: 0.0465 - accuracy: 0.9861 - val_loss: 1.5227 - val_accuracy: 0.7172\n",
      "Epoch 142/150\n",
      "21/21 [==============================] - ETA: 0s - loss: 0.0441 - accuracy: 0.9877\n",
      "Epoch 142: val_accuracy did not improve from 0.75862\n",
      "21/21 [==============================] - 20s 962ms/step - loss: 0.0441 - accuracy: 0.9877 - val_loss: 1.4197 - val_accuracy: 0.7172\n",
      "Epoch 143/150\n",
      "21/21 [==============================] - ETA: 0s - loss: 0.0605 - accuracy: 0.9846\n",
      "Epoch 143: val_accuracy did not improve from 0.75862\n",
      "21/21 [==============================] - 19s 898ms/step - loss: 0.0605 - accuracy: 0.9846 - val_loss: 1.4143 - val_accuracy: 0.7103\n",
      "Epoch 144/150\n",
      "21/21 [==============================] - ETA: 0s - loss: 0.0355 - accuracy: 0.9861\n",
      "Epoch 144: val_accuracy did not improve from 0.75862\n",
      "21/21 [==============================] - 19s 901ms/step - loss: 0.0355 - accuracy: 0.9861 - val_loss: 1.6622 - val_accuracy: 0.7103\n",
      "Epoch 145/150\n",
      "21/21 [==============================] - ETA: 0s - loss: 0.0318 - accuracy: 0.9892\n",
      "Epoch 145: val_accuracy did not improve from 0.75862\n",
      "21/21 [==============================] - 19s 894ms/step - loss: 0.0318 - accuracy: 0.9892 - val_loss: 1.4973 - val_accuracy: 0.6897\n",
      "Epoch 146/150\n",
      "21/21 [==============================] - ETA: 0s - loss: 0.0538 - accuracy: 0.9769\n",
      "Epoch 146: val_accuracy did not improve from 0.75862\n",
      "21/21 [==============================] - 19s 892ms/step - loss: 0.0538 - accuracy: 0.9769 - val_loss: 1.4263 - val_accuracy: 0.7379\n",
      "Epoch 147/150\n",
      "21/21 [==============================] - ETA: 0s - loss: 0.0249 - accuracy: 0.9954\n",
      "Epoch 147: val_accuracy did not improve from 0.75862\n",
      "21/21 [==============================] - 19s 886ms/step - loss: 0.0249 - accuracy: 0.9954 - val_loss: 1.5706 - val_accuracy: 0.7310\n",
      "Epoch 148/150\n",
      "21/21 [==============================] - ETA: 0s - loss: 0.0449 - accuracy: 0.9892\n",
      "Epoch 148: val_accuracy did not improve from 0.75862\n",
      "21/21 [==============================] - 19s 893ms/step - loss: 0.0449 - accuracy: 0.9892 - val_loss: 1.2924 - val_accuracy: 0.7310\n",
      "Epoch 149/150\n",
      "21/21 [==============================] - ETA: 0s - loss: 0.0463 - accuracy: 0.9877\n",
      "Epoch 149: val_accuracy did not improve from 0.75862\n",
      "21/21 [==============================] - 19s 903ms/step - loss: 0.0463 - accuracy: 0.9877 - val_loss: 1.6302 - val_accuracy: 0.7103\n",
      "Epoch 150/150\n",
      "21/21 [==============================] - ETA: 0s - loss: 0.0331 - accuracy: 0.9846\n",
      "Epoch 150: val_accuracy did not improve from 0.75862\n",
      "21/21 [==============================] - 19s 895ms/step - loss: 0.0331 - accuracy: 0.9846 - val_loss: 1.5427 - val_accuracy: 0.7241\n"
     ]
    }
   ],
   "source": [
    "# set up logging \n",
    "# and train nerual net\n",
    "\n",
    "%load_ext tensorboard\n",
    "\n",
    "log_dir = 'logs/batch/' + datetime.now().strftime('%Y%m%d-%H%M%S') + '/train'\n",
    "tensorboard_callback = keras.callbacks.TensorBoard(log_dir = log_dir)\n",
    "checkpoint_callback = keras.callbacks.ModelCheckpoint(\n",
    "    filepath = checkpoint_path, monitor=\"val_accuracy\", batch_size = img_batch_size_,\n",
    "    verbose=1, mode=\"max\", save_weights_only=True, save_best_only=True)\n",
    "history = model.fit(trainD_shuffle, epochs = epochs_, validation_data = testD_noshuffle, \n",
    "    callbacks=[tensorboard_callback, checkpoint_callback])"
   ]
  },
  {
   "cell_type": "code",
   "execution_count": 16,
   "metadata": {
    "colab": {
     "base_uri": "https://localhost:8080/",
     "height": 529
    },
    "executionInfo": {
     "elapsed": 631,
     "status": "ok",
     "timestamp": 1670177511533,
     "user": {
      "displayName": "Swetha Doddi",
      "userId": "12062466041865832555"
     },
     "user_tz": 360
    },
    "id": "h85S-LtlJgtK",
    "outputId": "eb9c23d2-8097-4cc1-f37e-06bc5eb374e0"
   },
   "outputs": [
    {
     "data": {
      "image/png": "[encoded data removed]",
      "text/plain": [
       "<Figure size 432x288 with 1 Axes>"
      ]
     },
     "metadata": {
      "needs_background": "light"
     },
     "output_type": "display_data"
    },
    {
     "data": {
      "image/png": "[encoded data removed]",
      "text/plain": [
       "<Figure size 432x288 with 1 Axes>"
      ]
     },
     "metadata": {
      "needs_background": "light"
     },
     "output_type": "display_data"
    }
   ],
   "source": [
    "# CHANGE:  Plot training and validation accuracy over epochs\n",
    "import matplotlib.pyplot as plt\n",
    "accuracy = history.history[\"accuracy\"]\n",
    "val_accuracy = history.history[\"val_accuracy\"]\n",
    "loss = history.history[\"loss\"]\n",
    "val_loss = history.history[\"val_loss\"]\n",
    "epochs = range(1, len(accuracy) + 1)\n",
    "plt.plot(epochs, accuracy, \"bo\", label = \"Training accuracy\")\n",
    "plt.plot(epochs, val_accuracy, \"g\", label = \"Validation accuracy\")\n",
    "plt.title(\"Training and validation accuracy\")\n",
    "plt.legend()\n",
    "plt.figure()\n",
    "plt.plot(epochs, loss, \"bo\", label = \"Training loss\")\n",
    "plt.plot(epochs, val_loss, \"g\", label = \"Validation loss\")\n",
    "plt.yscale(\"log\")\n",
    "plt.legend()\n",
    "plt.show()"
   ]
  },
  {
   "cell_type": "code",
   "execution_count": 17,
   "metadata": {
    "executionInfo": {
     "elapsed": 368,
     "status": "ok",
     "timestamp": 1670177515136,
     "user": {
      "displayName": "Swetha Doddi",
      "userId": "12062466041865832555"
     },
     "user_tz": 360
    },
    "id": "PE_W3k8jJlXr"
   },
   "outputs": [],
   "source": [
    "# restore checkpoint model\n",
    "#model = keras.models.load_model(checkpoint_path)\n",
    "model.load_weights(checkpoint_path)\n"
   ]
  },
  {
   "cell_type": "code",
   "execution_count": 18,
   "metadata": {
    "colab": {
     "base_uri": "https://localhost:8080/"
    },
    "executionInfo": {
     "elapsed": 18437,
     "status": "ok",
     "timestamp": 1670177535833,
     "user": {
      "displayName": "Swetha Doddi",
      "userId": "12062466041865832555"
     },
     "user_tz": 360
    },
    "id": "-UQXY4lGJoKW",
    "outputId": "91fee6a6-5f2f-4e4f-fd0e-fe6002926c6b"
   },
   "outputs": [
    {
     "name": "stdout",
     "output_type": "stream",
     "text": [
      "21/21 [==============================] - 18s 793ms/step\n"
     ]
    }
   ],
   "source": [
    "# run prediction based on training data\n",
    "train_scores = model.predict(trainD_noshuffle)\n",
    "train_pred_labels = train_scores.argmax(axis = 1)"
   ]
  },
  {
   "cell_type": "code",
   "execution_count": 19,
   "metadata": {
    "colab": {
     "base_uri": "https://localhost:8080/"
    },
    "executionInfo": {
     "elapsed": 31,
     "status": "ok",
     "timestamp": 1670177535834,
     "user": {
      "displayName": "Swetha Doddi",
      "userId": "12062466041865832555"
     },
     "user_tz": 360
    },
    "id": "AzF85E4cJq1h",
    "outputId": "e9c13af4-03e6-4ec5-b617-44fba384157e"
   },
   "outputs": [
    {
     "name": "stdout",
     "output_type": "stream",
     "text": [
      "\n",
      "\n",
      "Model Evaluation Using Training Data:\n",
      "Accuracy Score\n",
      "0.9953775038520801\n",
      "Confusion Matrix\n",
      "[[26  0  0  0  0  0  0  0  0  0  0  0  0  0  0  0  0  0  0  0  0  0  0  0\n",
      "   0  0  0  0  0  0]\n",
      " [ 0 24  0  0  0  0  0  0  0  0  0  0  0  0  0  0  0  0  0  0  0  0  0  0\n",
      "   0  0  0  0  0  0]\n",
      " [ 0  0 24  0  0  0  0  0  0  0  0  0  0  0  0  0  0  0  0  0  0  0  0  0\n",
      "   0  0  0  0  0  0]\n",
      " [ 0  0  0 19  0  0  0  0  0  0  0  0  0  0  0  0  0  0  0  0  0  0  0  0\n",
      "   0  0  0  0  0  0]\n",
      " [ 0  0  0  0 22  0  0  0  0  0  0  0  0  0  0  0  0  0  0  1  0  0  0  0\n",
      "   0  0  0  0  0  0]\n",
      " [ 0  0  0  0  0 23  0  0  0  0  0  0  0  0  0  0  0  0  0  0  0  0  0  0\n",
      "   0  0  0  0  0  0]\n",
      " [ 0  0  0  0  0  0 31  0  0  0  0  0  0  0  0  0  0  0  0  0  0  0  0  0\n",
      "   0  0  0  0  0  0]\n",
      " [ 0  0  0  0  0  0  0 27  0  0  0  0  0  0  0  0  0  0  0  0  0  0  0  0\n",
      "   0  0  0  0  0  0]\n",
      " [ 0  0  0  0  0  0  0  0 15  0  0  0  0  0  0  1  0  0  0  0  0  0  0  0\n",
      "   0  0  0  0  0  0]\n",
      " [ 0  0  0  0  0  0  0  0  0 22  0  0  0  0  0  0  0  0  0  0  0  0  0  0\n",
      "   0  0  0  0  0  0]\n",
      " [ 0  0  0  0  0  0  0  0  0  0 18  0  0  0  0  0  0  0  0  0  0  0  0  0\n",
      "   0  0  0  0  0  0]\n",
      " [ 0  0  0  0  0  0  0  0  0  0  0 19  0  0  0  0  0  0  0  0  0  0  0  0\n",
      "   0  0  0  0  0  0]\n",
      " [ 0  0  0  0  0  0  0  0  0  0  0  0 24  0  0  0  0  0  0  0  0  0  0  0\n",
      "   0  0  0  0  0  0]\n",
      " [ 0  0  0  0  0  0  0  0  0  0  0  0  0 19  0  0  0  0  0  0  0  0  0  0\n",
      "   0  0  0  0  0  0]\n",
      " [ 0  0  0  0  0  0  0  0  0  0  0  0  0  0 24  0  0  0  0  0  0  0  0  0\n",
      "   0  0  0  0  0  0]\n",
      " [ 0  0  0  0  0  0  0  0  0  0  0  0  0  0  0 20  0  0  0  0  0  0  0  0\n",
      "   0  0  0  0  0  0]\n",
      " [ 0  0  0  0  0  0  1  0  0  0  0  0  0  0  0  0 20  0  0  0  0  0  0  0\n",
      "   0  0  0  0  0  0]\n",
      " [ 0  0  0  0  0  0  0  0  0  0  0  0  0  0  0  0  0 18  0  0  0  0  0  0\n",
      "   0  0  0  0  0  0]\n",
      " [ 0  0  0  0  0  0  0  0  0  0  0  0  0  0  0  0  0  0 23  0  0  0  0  0\n",
      "   0  0  0  0  0  0]\n",
      " [ 0  0  0  0  0  0  0  0  0  0  0  0  0  0  0  0  0  0  0 22  0  0  0  0\n",
      "   0  0  0  0  0  0]\n",
      " [ 0  0  0  0  0  0  0  0  0  0  0  0  0  0  0  0  0  0  0  0 16  0  0  0\n",
      "   0  0  0  0  0  0]\n",
      " [ 0  0  0  0  0  0  0  0  0  0  0  0  0  0  0  0  0  0  0  0  0 20  0  0\n",
      "   0  0  0  0  0  0]\n",
      " [ 0  0  0  0  0  0  0  0  0  0  0  0  0  0  0  0  0  0  0  0  0  0 24  0\n",
      "   0  0  0  0  0  0]\n",
      " [ 0  0  0  0  0  0  0  0  0  0  0  0  0  0  0  0  0  0  0  0  0  0  0 24\n",
      "   0  0  0  0  0  0]\n",
      " [ 0  0  0  0  0  0  0  0  0  0  0  0  0  0  0  0  0  0  0  0  0  0  0  0\n",
      "  19  0  0  0  0  0]\n",
      " [ 0  0  0  0  0  0  0  0  0  0  0  0  0  0  0  0  0  0  0  0  0  0  0  0\n",
      "   0 20  0  0  0  0]\n",
      " [ 0  0  0  0  0  0  0  0  0  0  0  0  0  0  0  0  0  0  0  0  0  0  0  0\n",
      "   0  0 19  0  0  0]\n",
      " [ 0  0  0  0  0  0  0  0  0  0  0  0  0  0  0  0  0  0  0  0  0  0  0  0\n",
      "   0  0  0 20  0  0]\n",
      " [ 0  0  0  0  0  0  0  0  0  0  0  0  0  0  0  0  0  0  0  0  0  0  0  0\n",
      "   0  0  0  0 20  0]\n",
      " [ 0  0  0  0  0  0  0  0  0  0  0  0  0  0  0  0  0  0  0  0  0  0  0  0\n",
      "   0  0  0  0  0 24]]\n"
     ]
    }
   ],
   "source": [
    "# evaluate trained network\n",
    "print('')\n",
    "print('')\n",
    "print('Model Evaluation Using Training Data:')\n",
    "\n",
    "print(\"Accuracy Score\")\n",
    "print(accuracy_score(trainD_noshuffle.labels, train_pred_labels))\n",
    "\n",
    "print(\"Confusion Matrix\")\n",
    "print(confusion_matrix(trainD_noshuffle.labels, train_pred_labels))"
   ]
  },
  {
   "cell_type": "code",
   "execution_count": 20,
   "metadata": {
    "colab": {
     "base_uri": "https://localhost:8080/"
    },
    "executionInfo": {
     "elapsed": 4454,
     "status": "ok",
     "timestamp": 1670177552682,
     "user": {
      "displayName": "Swetha Doddi",
      "userId": "12062466041865832555"
     },
     "user_tz": 360
    },
    "id": "eFS0LqrKJtX0",
    "outputId": "c154250b-3c8a-49f5-c2b5-8c1624d38c84"
   },
   "outputs": [
    {
     "name": "stdout",
     "output_type": "stream",
     "text": [
      "5/5 [==============================] - 3s 705ms/step\n"
     ]
    }
   ],
   "source": [
    "# run prediction based on test data\n",
    "test_scores = model.predict(testD_noshuffle)\n",
    "test_pred_labels = test_scores.argmax(axis = 1)"
   ]
  },
  {
   "cell_type": "code",
   "execution_count": 21,
   "metadata": {
    "colab": {
     "base_uri": "https://localhost:8080/"
    },
    "executionInfo": {
     "elapsed": 157,
     "status": "ok",
     "timestamp": 1670177553564,
     "user": {
      "displayName": "Swetha Doddi",
      "userId": "12062466041865832555"
     },
     "user_tz": 360
    },
    "id": "oMaKTVoHJv0m",
    "outputId": "0ef53385-fe5c-4c36-f5ea-c31f37f9f0f0"
   },
   "outputs": [
    {
     "name": "stdout",
     "output_type": "stream",
     "text": [
      "\n",
      "\n",
      "Model Evaluation Using Test Data:\n",
      "Accuracy Score\n",
      "0.7241379310344828\n",
      "Confusion Matrix\n",
      "[[3 1 0 0 1 0 0 0 1 0 0 0 0 0 0 0 0 0 0 0 0 0 0 0 0 0 0 0 0 0]\n",
      " [1 2 0 0 0 0 0 0 0 0 0 0 1 0 0 0 0 0 0 0 0 0 0 1 0 0 0 0 0 0]\n",
      " [0 0 6 0 0 0 0 0 0 0 0 0 0 0 0 0 0 0 0 0 0 0 0 0 0 0 0 0 0 0]\n",
      " [0 0 0 3 0 0 0 0 0 0 0 0 0 0 0 0 0 0 0 0 0 1 0 0 0 0 0 0 0 0]\n",
      " [0 0 0 0 5 0 0 0 0 0 0 0 0 0 0 0 0 0 0 0 0 0 0 0 0 0 0 0 0 0]\n",
      " [0 0 0 0 0 4 0 0 0 0 0 0 1 0 0 0 0 0 0 0 0 0 0 0 0 0 0 0 0 0]\n",
      " [0 0 0 0 0 0 6 0 0 0 0 0 0 0 0 0 0 0 0 0 0 1 0 0 0 0 0 0 0 0]\n",
      " [0 0 0 0 0 0 0 6 0 0 0 0 0 0 0 0 0 0 0 0 0 0 0 0 0 0 0 0 0 0]\n",
      " [0 0 0 0 0 0 0 0 1 0 0 0 0 0 1 0 0 1 0 0 0 0 0 0 0 0 0 0 0 0]\n",
      " [0 0 0 0 0 0 0 0 0 4 0 0 0 0 0 0 0 0 0 0 0 1 0 0 0 0 0 0 0 0]\n",
      " [0 0 0 0 0 0 0 0 0 0 2 0 0 0 0 0 0 0 0 0 1 0 0 0 1 0 0 0 0 0]\n",
      " [0 0 0 0 0 0 0 0 0 0 0 4 0 0 0 0 0 0 0 0 0 0 0 0 0 0 0 0 0 0]\n",
      " [2 0 0 1 0 0 0 0 0 0 0 0 3 0 0 0 0 0 0 0 0 0 0 0 0 0 0 0 0 0]\n",
      " [0 0 0 0 0 0 0 0 0 0 1 0 0 1 0 0 0 0 1 0 0 0 0 0 0 0 0 0 1 0]\n",
      " [0 0 0 0 0 0 0 0 0 0 0 0 0 0 5 0 0 0 0 0 0 0 0 0 0 0 0 0 0 0]\n",
      " [0 0 0 0 0 0 0 0 0 0 1 0 0 0 1 3 0 0 0 0 0 0 0 0 0 0 0 0 0 0]\n",
      " [0 0 0 0 0 0 1 0 0 0 0 0 0 0 0 0 3 0 0 0 0 0 1 0 0 0 0 0 0 0]\n",
      " [0 0 0 0 0 0 0 0 0 0 0 0 0 0 0 0 0 4 0 0 0 0 0 0 0 0 0 0 0 0]\n",
      " [0 0 0 0 0 0 0 0 0 0 0 0 0 0 0 0 0 0 5 0 0 0 0 0 0 0 0 0 0 0]\n",
      " [0 0 0 0 0 0 0 0 0 0 0 0 0 0 0 0 1 0 0 4 0 0 0 0 0 0 0 0 0 0]\n",
      " [0 0 0 0 0 0 0 0 0 2 1 0 0 0 0 0 0 0 0 0 1 0 0 0 0 0 0 0 0 0]\n",
      " [0 0 0 0 0 0 0 0 0 0 0 0 0 0 0 0 0 0 0 0 0 5 0 0 0 0 0 0 0 0]\n",
      " [0 0 0 0 0 0 0 0 0 0 0 0 0 0 0 0 0 0 0 0 0 0 4 0 1 0 0 0 0 0]\n",
      " [0 0 0 0 0 0 0 0 0 0 0 1 0 0 0 0 1 0 0 0 0 0 0 3 0 0 0 0 0 0]\n",
      " [0 0 0 0 0 0 1 0 0 0 0 0 0 0 0 0 0 0 0 0 0 0 1 0 2 0 0 0 0 0]\n",
      " [0 0 0 0 0 0 0 0 0 1 0 0 0 0 0 0 0 0 0 0 0 0 0 0 0 3 0 0 0 0]\n",
      " [0 0 0 0 0 0 0 0 0 0 0 0 1 0 0 0 0 0 0 0 0 0 0 0 0 0 3 0 0 0]\n",
      " [0 2 0 0 0 0 0 0 0 0 0 0 0 0 0 0 0 0 0 0 0 0 0 0 0 0 0 3 0 0]\n",
      " [0 0 0 0 0 0 0 0 0 0 0 0 1 0 0 0 0 0 0 0 0 0 0 0 0 0 0 0 4 0]\n",
      " [0 0 0 0 0 0 0 0 0 0 0 0 0 0 0 0 0 0 0 0 0 0 0 0 2 0 0 0 0 3]]\n"
     ]
    }
   ],
   "source": [
    "# print confusion matrix \n",
    "print('')\n",
    "print('')\n",
    "print('Model Evaluation Using Test Data:')\n",
    "\n",
    "\n",
    "print(\"Accuracy Score\")\n",
    "print(accuracy_score(testD_noshuffle.labels, test_pred_labels))\n",
    "\n",
    "print(\"Confusion Matrix\")\n",
    "print(confusion_matrix(testD_noshuffle.labels, test_pred_labels))\n"
   ]
  },
  {
   "cell_type": "code",
   "execution_count": 22,
   "metadata": {
    "executionInfo": {
     "elapsed": 142,
     "status": "ok",
     "timestamp": 1670177561281,
     "user": {
      "displayName": "Swetha Doddi",
      "userId": "12062466041865832555"
     },
     "user_tz": 360
    },
    "id": "2MLWTuzXJyfA"
   },
   "outputs": [],
   "source": [
    "# Create lookup to convert class labels (index-numbers) to string labels \n",
    "nameToLabelDict = testD_noshuffle.class_indices\n",
    "labelToNameDict = dict([(value, key) for key, value in nameToLabelDict.items()])"
   ]
  },
  {
   "cell_type": "code",
   "execution_count": 23,
   "metadata": {
    "executionInfo": {
     "elapsed": 863,
     "status": "ok",
     "timestamp": 1670177578197,
     "user": {
      "displayName": "Swetha Doddi",
      "userId": "12062466041865832555"
     },
     "user_tz": 360
    },
    "id": "V8cWUjX0J1Qp"
   },
   "outputs": [],
   "source": [
    "# set up lists of colors and styles for use in plotting\n",
    "from itertools import cycle\n",
    "from itertools import product\n",
    "from sklearn.linear_model import LassoCV\n",
    "import matplotlib as mpl\n",
    "color_list = [\\\n",
    "    \"b\", \"r\", \"g\", \"c\", \"m\", \\\n",
    "    \"skyblue\", \"pink\", \"lime\", \"cyan\", \"magenta\", \\\n",
    "    \"navy\", \"brown\", \"olive\", \"orange\", \"purple\"]\n",
    "    # note \"cyan\" is brighter than \"c\", \"magenta\" is brighter than \"m\"\n",
    "\n",
    "# repeat each style times number of colors\n",
    "base_style_list = ['solid', 'dotted', 'dashed', 'dashdot']\n",
    "line_style_list = \\\n",
    "    [cartesian[0] for  cartesian in product(base_style_list, color_list)]\n",
    "\n",
    "# set up plot styling\n",
    "mpl.style.use('seaborn')"
   ]
  },
  {
   "cell_type": "code",
   "execution_count": 24,
   "metadata": {
    "colab": {
     "base_uri": "https://localhost:8080/",
     "height": 376
    },
    "executionInfo": {
     "elapsed": 534,
     "status": "ok",
     "timestamp": 1670177590764,
     "user": {
      "displayName": "Swetha Doddi",
      "userId": "12062466041865832555"
     },
     "user_tz": 360
    },
    "id": "WCNKOPQkV2Qk",
    "outputId": "549ec83d-d3ed-46e7-9405-0c25a357fef2"
   },
   "outputs": [
    {
     "data": {
      "image/png": "[encoded data removed]",
      "text/plain": [
       "<Figure size 576x396 with 1 Axes>"
      ]
     },
     "metadata": {},
     "output_type": "display_data"
    }
   ],
   "source": [
    "# Plot ROC (Receiver Operating Characteristic) Curve and compute area under curve for each class \n",
    "# using test data\n",
    "import matplotlib as mpl\n",
    "import seaborn as sms\n",
    "mpl.style.use('seaborn')\n",
    "import matplotlib.pyplot as plt\n",
    "# Compute ROC curve and ROC area for each class\n",
    "from sklearn.metrics import roc_curve, auc\n",
    "fig, ax = plt.subplots()\n",
    "for i, c, l in zip(range(img_class_count), cycle(color_list), line_style_list):\n",
    "    fpr_, tpr_, _ = roc_curve(testD_noshuffle.labels, test_scores[:, i], pos_label=i)\n",
    "    auc_ = auc(fpr_, tpr_)\n",
    "    label_ = 'class ' + str(i) + \" (\" + labelToNameDict[i] + \") AUC = %0.2f)\" % auc_\n",
    "    plt.plot(fpr_, tpr_, marker='.', label=label_, color = c, linestyle = l)\n",
    "plt.title(\"Test Data ROC Curve\", color='C6')\n",
    "plt.xlabel('False Positive Rate')\n",
    "plt.ylabel('True Positive Rate')\n",
    "ax.legend(bbox_to_anchor = (1.0,1.0), loc = \"upper left\", fontsize = \"x-small\")\n",
    "#plt.legend()\n",
    "plt.show()"
   ]
  },
  {
   "cell_type": "code",
   "execution_count": 25,
   "metadata": {
    "colab": {
     "base_uri": "https://localhost:8080/"
    },
    "executionInfo": {
     "elapsed": 146,
     "status": "ok",
     "timestamp": 1670177604884,
     "user": {
      "displayName": "Swetha Doddi",
      "userId": "12062466041865832555"
     },
     "user_tz": 360
    },
    "id": "lQZJYfPlV7P6",
    "outputId": "ab33214c-a9dc-4cf1-ebfb-917bc62f9438"
   },
   "outputs": [
    {
     "name": "stdout",
     "output_type": "stream",
     "text": [
      "              precision    recall  f1-score   support\n",
      "\n",
      "           0       0.50      0.50      0.50         6\n",
      "           1       0.40      0.40      0.40         5\n",
      "           2       1.00      1.00      1.00         6\n",
      "           3       0.75      0.75      0.75         4\n",
      "           4       0.83      1.00      0.91         5\n",
      "           5       1.00      0.80      0.89         5\n",
      "           6       0.75      0.86      0.80         7\n",
      "           7       1.00      1.00      1.00         6\n",
      "           8       0.50      0.33      0.40         3\n",
      "           9       0.57      0.80      0.67         5\n",
      "          10       0.40      0.50      0.44         4\n",
      "          11       0.80      1.00      0.89         4\n",
      "          12       0.43      0.50      0.46         6\n",
      "          13       1.00      0.25      0.40         4\n",
      "          14       0.71      1.00      0.83         5\n",
      "          15       1.00      0.60      0.75         5\n",
      "          16       0.60      0.60      0.60         5\n",
      "          17       0.80      1.00      0.89         4\n",
      "          18       0.83      1.00      0.91         5\n",
      "          19       1.00      0.80      0.89         5\n",
      "          20       0.50      0.25      0.33         4\n",
      "          21       0.62      1.00      0.77         5\n",
      "          22       0.67      0.80      0.73         5\n",
      "          23       0.75      0.60      0.67         5\n",
      "          24       0.33      0.50      0.40         4\n",
      "          25       1.00      0.75      0.86         4\n",
      "          26       1.00      0.75      0.86         4\n",
      "          27       1.00      0.60      0.75         5\n",
      "          28       0.80      0.80      0.80         5\n",
      "          29       1.00      0.60      0.75         5\n",
      "\n",
      "    accuracy                           0.72       145\n",
      "   macro avg       0.75      0.71      0.71       145\n",
      "weighted avg       0.76      0.72      0.72       145\n",
      "\n"
     ]
    }
   ],
   "source": [
    "# Print precision, recall, F-score for each class \n",
    "# using test data\n",
    "from sklearn.metrics import classification_report\n",
    "scores = classification_report(testD_noshuffle.labels, test_pred_labels)\n",
    "print(scores)"
   ]
  },
  {
   "cell_type": "code",
   "execution_count": null,
   "metadata": {
    "id": "Oy591viqV8uP"
   },
   "outputs": [],
   "source": []
  }
 ],
 "metadata": {
  "accelerator": "GPU",
  "colab": {
   "authorship_tag": "ABX9TyOfC+fnVfQXUJfWYJTSPyGf",
   "provenance": [
    {
     "file_id": "1VdavWSb6ySoVE6fvhTJnJIQ3VDJ7J9nv",
     "timestamp": 1670177677140
    }
   ]
  },
  "gpuClass": "standard",
  "kernelspec": {
   "display_name": "Python 3",
   "language": "python",
   "name": "python3"
  },
  "language_info": {
   "codemirror_mode": {
    "name": "ipython",
    "version": 3
   },
   "file_extension": ".py",
   "mimetype": "text/x-python",
   "name": "python",
   "nbconvert_exporter": "python",
   "pygments_lexer": "ipython3",
   "version": "3.8.5"
  }
 },
 "nbformat": 4,
 "nbformat_minor": 1
}
